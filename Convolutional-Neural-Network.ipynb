{
 "cells": [
  {
   "cell_type": "code",
   "execution_count": 1,
   "id": "8df22d0e",
   "metadata": {},
   "outputs": [],
   "source": [
    "import warnings\n",
    "warnings.filterwarnings(\"ignore\")"
   ]
  },
  {
   "cell_type": "code",
   "execution_count": 3,
   "id": "3d940a25",
   "metadata": {},
   "outputs": [],
   "source": [
    "import tensorflow as tf\n",
    "from tensorflow.keras.datasets import mnist"
   ]
  },
  {
   "cell_type": "code",
   "execution_count": 4,
   "id": "11e07e6c",
   "metadata": {},
   "outputs": [],
   "source": [
    "(X_train, y_train), (X_test, y_test) = mnist.load_data()"
   ]
  },
  {
   "cell_type": "code",
   "execution_count": 5,
   "id": "5c08f78d",
   "metadata": {},
   "outputs": [
    {
     "data": {
      "text/plain": [
       "(60000, 28, 28)"
      ]
     },
     "execution_count": 5,
     "metadata": {},
     "output_type": "execute_result"
    }
   ],
   "source": [
    "X_train.shape"
   ]
  },
  {
   "cell_type": "code",
   "execution_count": 6,
   "id": "49e4ebbe",
   "metadata": {},
   "outputs": [
    {
     "data": {
      "text/plain": [
       "(10000, 28, 28)"
      ]
     },
     "execution_count": 6,
     "metadata": {},
     "output_type": "execute_result"
    }
   ],
   "source": [
    "X_test.shape"
   ]
  },
  {
   "cell_type": "code",
   "execution_count": 7,
   "id": "50166d62",
   "metadata": {},
   "outputs": [
    {
     "data": {
      "text/plain": [
       "<matplotlib.image.AxesImage at 0x254f5018d30>"
      ]
     },
     "execution_count": 7,
     "metadata": {},
     "output_type": "execute_result"
    },
    {
     "data": {
      "image/png": "[encoded data removed]",
      "text/plain": [
       "<Figure size 640x480 with 1 Axes>"
      ]
     },
     "metadata": {},
     "output_type": "display_data"
    }
   ],
   "source": [
    "import matplotlib.pyplot as plt\n",
    "plt.imshow(X_train[2], cmap='gray')"
   ]
  },
  {
   "cell_type": "code",
   "execution_count": 8,
   "id": "317fa865",
   "metadata": {},
   "outputs": [
    {
     "data": {
      "text/plain": [
       "4"
      ]
     },
     "execution_count": 8,
     "metadata": {},
     "output_type": "execute_result"
    }
   ],
   "source": [
    "y_train[2]"
   ]
  },
  {
   "cell_type": "code",
   "execution_count": 9,
   "id": "3b87cea0",
   "metadata": {},
   "outputs": [],
   "source": [
    "X_train = X_train.reshape(60000,28,28,1)\n",
    "X_test = X_test.reshape(10000,28,28,1)"
   ]
  },
  {
   "cell_type": "code",
   "execution_count": null,
   "id": "a5e6ec81",
   "metadata": {},
   "outputs": [],
   "source": []
  },
  {
   "cell_type": "code",
   "execution_count": null,
   "id": "1e5276de",
   "metadata": {},
   "outputs": [],
   "source": []
  },
  {
   "cell_type": "code",
   "execution_count": 10,
   "id": "053ca234",
   "metadata": {},
   "outputs": [
    {
     "name": "stdout",
     "output_type": "stream",
     "text": [
      " Training Shape (60000, 28, 28, 1) Test Shape (10000, 28, 28, 1)\n"
     ]
    }
   ],
   "source": [
    "print(f\" Training Shape {X_train.shape} Test Shape {X_test.shape}\")"
   ]
  },
  {
   "cell_type": "code",
   "execution_count": 11,
   "id": "35e493b7",
   "metadata": {},
   "outputs": [
    {
     "data": {
      "text/plain": [
       "((60000, 28, 28, 1), (10000, 28, 28, 1))"
      ]
     },
     "execution_count": 11,
     "metadata": {},
     "output_type": "execute_result"
    }
   ],
   "source": [
    "X_train.shape, X_test.shape"
   ]
  },
  {
   "cell_type": "code",
   "execution_count": 12,
   "id": "5dd4a151",
   "metadata": {},
   "outputs": [],
   "source": [
    "X_train = X_train/255.0\n",
    "X_test = X_test/255.0"
   ]
  },
  {
   "cell_type": "code",
   "execution_count": 13,
   "id": "49a0b4c3",
   "metadata": {},
   "outputs": [],
   "source": [
    "from tensorflow.keras.models import Sequential"
   ]
  },
  {
   "cell_type": "code",
   "execution_count": 14,
   "id": "5c2ae977",
   "metadata": {},
   "outputs": [],
   "source": [
    "from tensorflow.keras.layers import Dense, Conv2D, Flatten, MaxPool2D"
   ]
  },
  {
   "cell_type": "code",
   "execution_count": 15,
   "id": "af698776",
   "metadata": {},
   "outputs": [],
   "source": [
    "#Create Model\n",
    "model = Sequential()"
   ]
  },
  {
   "cell_type": "code",
   "execution_count": 17,
   "id": "d2ac63b9",
   "metadata": {},
   "outputs": [],
   "source": [
    "# Convolutional Layer with 32 filters, 3*3 filter size, stride = 1 and no padding\n",
    "model.add(Conv2D(32, \n",
    "                 kernel_size=3,\n",
    "                 activation='relu',\n",
    "                 padding='valid', # value = 'same' if padding is needed\n",
    "                 input_shape=(28,28,1)))"
   ]
  },
  {
   "cell_type": "code",
   "execution_count": 19,
   "id": "23aef847",
   "metadata": {},
   "outputs": [],
   "source": [
    "model.add(MaxPool2D(pool_size = 2)) #Maxpool2D"
   ]
  },
  {
   "cell_type": "code",
   "execution_count": 20,
   "id": "c475db5e",
   "metadata": {},
   "outputs": [],
   "source": [
    "model.add(Flatten()) #Flatten"
   ]
  },
  {
   "cell_type": "code",
   "execution_count": 21,
   "id": "de415bef",
   "metadata": {},
   "outputs": [],
   "source": [
    "model.add(Dense(64, activation = 'relu')) #Fully Connected Layer"
   ]
  },
  {
   "cell_type": "code",
   "execution_count": 22,
   "id": "853e76f4",
   "metadata": {},
   "outputs": [],
   "source": [
    "model.add(Dense(10,activation='softmax')) #Output Layer"
   ]
  },
  {
   "cell_type": "code",
   "execution_count": 23,
   "id": "7aeeee1f",
   "metadata": {},
   "outputs": [],
   "source": [
    "#n-f+1 - no padding case"
   ]
  },
  {
   "cell_type": "code",
   "execution_count": 24,
   "id": "e56f9415",
   "metadata": {},
   "outputs": [
    {
     "name": "stdout",
     "output_type": "stream",
     "text": [
      "Model: \"sequential\"\n",
      "_________________________________________________________________\n",
      " Layer (type)                Output Shape              Param #   \n",
      "=================================================================\n",
      " conv2d (Conv2D)             (None, 26, 26, 32)        320       \n",
      "                                                                 \n",
      " max_pooling2d (MaxPooling2  (None, 13, 13, 32)        0         \n",
      " D)                                                              \n",
      "                                                                 \n",
      " flatten (Flatten)           (None, 5408)              0         \n",
      "                                                                 \n",
      " dense (Dense)               (None, 64)                346176    \n",
      "                                                                 \n",
      " dense_1 (Dense)             (None, 10)                650       \n",
      "                                                                 \n",
      "=================================================================\n",
      "Total params: 347146 (1.32 MB)\n",
      "Trainable params: 347146 (1.32 MB)\n",
      "Non-trainable params: 0 (0.00 Byte)\n",
      "_________________________________________________________________\n"
     ]
    }
   ],
   "source": [
    "model.summary()"
   ]
  },
  {
   "cell_type": "code",
   "execution_count": 25,
   "id": "83d26b3c",
   "metadata": {},
   "outputs": [],
   "source": [
    "model.compile(optimizer='adam', \n",
    "              loss=tf.keras.losses.SparseCategoricalCrossentropy(), \n",
    "              metrics=['accuracy'])"
   ]
  },
  {
   "cell_type": "code",
   "execution_count": 26,
   "id": "aae830fa",
   "metadata": {},
   "outputs": [
    {
     "name": "stdout",
     "output_type": "stream",
     "text": [
      "Epoch 1/5\n",
      "1875/1875 [==============================] - 21s 11ms/step - loss: 0.1636 - accuracy: 0.9528 - val_loss: 0.0695 - val_accuracy: 0.9777\n",
      "Epoch 2/5\n",
      "1875/1875 [==============================] - 18s 10ms/step - loss: 0.0585 - accuracy: 0.9821 - val_loss: 0.0478 - val_accuracy: 0.9843\n",
      "Epoch 3/5\n",
      "1875/1875 [==============================] - 19s 10ms/step - loss: 0.0411 - accuracy: 0.9875 - val_loss: 0.0537 - val_accuracy: 0.9825\n",
      "Epoch 4/5\n",
      "1875/1875 [==============================] - 19s 10ms/step - loss: 0.0302 - accuracy: 0.9905 - val_loss: 0.0438 - val_accuracy: 0.9855\n",
      "Epoch 5/5\n",
      "1875/1875 [==============================] - 18s 10ms/step - loss: 0.0218 - accuracy: 0.9933 - val_loss: 0.0463 - val_accuracy: 0.9856\n"
     ]
    },
    {
     "data": {
      "text/plain": [
       "<keras.src.callbacks.History at 0x254f21168c0>"
      ]
     },
     "execution_count": 26,
     "metadata": {},
     "output_type": "execute_result"
    }
   ],
   "source": [
    "model.fit(X_train, \n",
    "          y_train, \n",
    "          validation_data=(X_test, y_test), \n",
    "          epochs=5)"
   ]
  },
  {
   "cell_type": "code",
   "execution_count": 27,
   "id": "cb58bb91",
   "metadata": {},
   "outputs": [],
   "source": [
    "import numpy as np"
   ]
  },
  {
   "cell_type": "code",
   "execution_count": 28,
   "id": "33c79ae4",
   "metadata": {},
   "outputs": [
    {
     "name": "stdout",
     "output_type": "stream",
     "text": [
      "1875/1875 [==============================] - 8s 4ms/step\n",
      "[2.00521891e-13 1.01741263e-11 1.29448275e-11 2.51154695e-03\n",
      " 2.20364254e-13 9.97488379e-01 6.24182858e-11 5.47780432e-10\n",
      " 2.39610043e-09 6.29350652e-08]\n",
      "1875/1875 [==============================] - 7s 4ms/step\n",
      "5\n"
     ]
    }
   ],
   "source": [
    "print(model.predict(X_train)[0])\n",
    "print(np.argmax(model.predict(X_train)[0]))"
   ]
  },
  {
   "cell_type": "code",
   "execution_count": 29,
   "id": "9bf1788a",
   "metadata": {},
   "outputs": [
    {
     "name": "stdout",
     "output_type": "stream",
     "text": [
      "1875/1875 [==============================] - 8s 4ms/step\n"
     ]
    }
   ],
   "source": [
    "y_train_pred = np.argmax(model.predict(X_train),axis=1)"
   ]
  },
  {
   "cell_type": "code",
   "execution_count": 30,
   "id": "5e920982",
   "metadata": {},
   "outputs": [
    {
     "name": "stdout",
     "output_type": "stream",
     "text": [
      "313/313 [==============================] - 1s 4ms/step\n"
     ]
    }
   ],
   "source": [
    "y_test_pred = np.argmax(model.predict(X_test), axis=1)"
   ]
  },
  {
   "cell_type": "code",
   "execution_count": 31,
   "id": "0c20797c",
   "metadata": {},
   "outputs": [],
   "source": [
    "from sklearn.metrics import confusion_matrix, accuracy_score"
   ]
  },
  {
   "cell_type": "code",
   "execution_count": 32,
   "id": "730839c7",
   "metadata": {},
   "outputs": [
    {
     "name": "stdout",
     "output_type": "stream",
     "text": [
      "Training Set Confusion Matrix\n",
      "[[5899    1    0    0    4    1    6    1    4    7]\n",
      " [   0 6736    0    0    1    0    2    1    2    0]\n",
      " [   0    7 5925    1    8    0    0    3    9    5]\n",
      " [   0    5    2 6079    0   22    0    5    8   10]\n",
      " [   0    4    0    0 5832    0    0    1    0    5]\n",
      " [   0    1    0    2    1 5405    4    0    2    6]\n",
      " [   0    0    0    0    4   11 5901    0    2    0]\n",
      " [   0   17    7    0    5    0    0 6231    1    4]\n",
      " [   2    2    0    1    6    8    3    0 5823    6]\n",
      " [   0    2    0    0   16    0    0    4    1 5926]]\n",
      "\n",
      "\n",
      " Accuracy 0.99595\n"
     ]
    }
   ],
   "source": [
    "print(\"Training Set Confusion Matrix\")\n",
    "print(confusion_matrix(y_pred = y_train_pred, y_true=y_train))\n",
    "print(\"\\n\")\n",
    "print(f\" Accuracy {accuracy_score(y_pred = y_train_pred, y_true=y_train)}\")"
   ]
  },
  {
   "cell_type": "code",
   "execution_count": 33,
   "id": "9ef821d5",
   "metadata": {},
   "outputs": [
    {
     "name": "stdout",
     "output_type": "stream",
     "text": [
      "Test Set Confusion Matrix\n",
      "[[ 970    0    3    0    0    0    4    0    2    1]\n",
      " [   0 1130    1    0    1    1    1    0    1    0]\n",
      " [   1    4 1013    1    1    0    1    7    2    2]\n",
      " [   0    1    3  991    0   11    0    2    2    0]\n",
      " [   0    0    0    0  977    0    2    0    0    3]\n",
      " [   0    0    0    3    0  882    4    0    1    2]\n",
      " [   3    2    0    0    2    4  946    0    1    0]\n",
      " [   0    3    8    0    1    0    0 1012    1    3]\n",
      " [   6    0    3    1    3    3    1    3  950    4]\n",
      " [   0    2    0    0   14    4    0    3    1  985]]\n",
      "\n",
      "\n",
      " Accuracy 0.9856\n"
     ]
    }
   ],
   "source": [
    "print(\"Test Set Confusion Matrix\")\n",
    "print(confusion_matrix(y_pred = y_test_pred, y_true=y_test))\n",
    "print(\"\\n\")\n",
    "print(f\" Accuracy {accuracy_score(y_pred = y_test_pred, y_true=y_test)}\")"
   ]
  },
  {
   "cell_type": "code",
   "execution_count": 34,
   "id": "d518246f",
   "metadata": {},
   "outputs": [],
   "source": [
    "model.save('my_cnn_mnist_model_22Jul.h5')"
   ]
  },
  {
   "cell_type": "code",
   "execution_count": 35,
   "id": "8b9df913",
   "metadata": {},
   "outputs": [],
   "source": [
    "\n",
    "m1 = tf.keras.models.load_model('my_cnn_mnist_model_22Jul.h5')"
   ]
  },
  {
   "cell_type": "code",
   "execution_count": 36,
   "id": "35b7920e",
   "metadata": {},
   "outputs": [
    {
     "name": "stdout",
     "output_type": "stream",
     "text": [
      "1875/1875 [==============================] - 8s 4ms/step\n"
     ]
    }
   ],
   "source": [
    "y_train_pred1 = np.argmax(m1.predict(X_train),axis=1)"
   ]
  },
  {
   "cell_type": "code",
   "execution_count": 37,
   "id": "91d4dbd9",
   "metadata": {},
   "outputs": [
    {
     "name": "stdout",
     "output_type": "stream",
     "text": [
      "Confusion Matrix\n",
      "[[5899    1    0    0    4    1    6    1    4    7]\n",
      " [   0 6736    0    0    1    0    2    1    2    0]\n",
      " [   0    7 5925    1    8    0    0    3    9    5]\n",
      " [   0    5    2 6079    0   22    0    5    8   10]\n",
      " [   0    4    0    0 5832    0    0    1    0    5]\n",
      " [   0    1    0    2    1 5405    4    0    2    6]\n",
      " [   0    0    0    0    4   11 5901    0    2    0]\n",
      " [   0   17    7    0    5    0    0 6231    1    4]\n",
      " [   2    2    0    1    6    8    3    0 5823    6]\n",
      " [   0    2    0    0   16    0    0    4    1 5926]]\n",
      "\n",
      "\n",
      " Accuracy 0.99595\n"
     ]
    }
   ],
   "source": [
    "print(\"Confusion Matrix\")\n",
    "print(confusion_matrix(y_pred = y_train_pred1, y_true=y_train))\n",
    "print(\"\\n\")\n",
    "print(f\" Accuracy {accuracy_score(y_pred = y_train_pred1, y_true=y_train)}\")"
   ]
  },
  {
   "cell_type": "code",
   "execution_count": null,
   "id": "b829d3ab",
   "metadata": {},
   "outputs": [],
   "source": []
  }
 ],
 "metadata": {
  "kernelspec": {
   "display_name": "Python 3 (ipykernel)",
   "language": "python",
   "name": "python3"
  },
  "language_info": {
   "codemirror_mode": {
    "name": "ipython",
    "version": 3
   },
   "file_extension": ".py",
   "mimetype": "text/x-python",
   "name": "python",
   "nbconvert_exporter": "python",
   "pygments_lexer": "ipython3",
   "version": "3.10.13"
  }
 },
 "nbformat": 4,
 "nbformat_minor": 5
}
